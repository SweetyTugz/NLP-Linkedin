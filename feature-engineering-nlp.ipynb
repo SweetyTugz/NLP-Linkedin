{
 "cells": [
  {
   "cell_type": "code",
   "execution_count": 1,
   "id": "02704918",
   "metadata": {
    "_cell_guid": "b1076dfc-b9ad-4769-8c92-a6c4dae69d19",
    "_uuid": "8f2839f25d086af736a60e9eeb907d3b93b6e0e5",
    "execution": {
     "iopub.execute_input": "2021-12-24T17:02:37.741371Z",
     "iopub.status.busy": "2021-12-24T17:02:37.738004Z",
     "iopub.status.idle": "2021-12-24T17:02:37.779188Z",
     "shell.execute_reply": "2021-12-24T17:02:37.778439Z",
     "shell.execute_reply.started": "2021-12-24T15:57:38.182449Z"
    },
    "papermill": {
     "duration": 0.05974,
     "end_time": "2021-12-24T17:02:37.779375",
     "exception": false,
     "start_time": "2021-12-24T17:02:37.719635",
     "status": "completed"
    },
    "tags": []
   },
   "outputs": [],
   "source": [
    "import pandas as pd\n",
    "\n",
    "data=pd.read_csv(\"../input/soamtsv/SMSSpamCollection.tsv\",sep=\"\\t\")\n",
    "data.columns=['label','body_text']"
   ]
  },
  {
   "cell_type": "code",
   "execution_count": 2,
   "id": "6cea2743",
   "metadata": {
    "execution": {
     "iopub.execute_input": "2021-12-24T17:02:37.798188Z",
     "iopub.status.busy": "2021-12-24T17:02:37.797538Z",
     "iopub.status.idle": "2021-12-24T17:02:37.829503Z",
     "shell.execute_reply": "2021-12-24T17:02:37.830106Z",
     "shell.execute_reply.started": "2021-12-24T16:40:43.636916Z"
    },
    "papermill": {
     "duration": 0.043232,
     "end_time": "2021-12-24T17:02:37.830295",
     "exception": false,
     "start_time": "2021-12-24T17:02:37.787063",
     "status": "completed"
    },
    "tags": []
   },
   "outputs": [
    {
     "data": {
      "text/html": [
       "<div>\n",
       "<style scoped>\n",
       "    .dataframe tbody tr th:only-of-type {\n",
       "        vertical-align: middle;\n",
       "    }\n",
       "\n",
       "    .dataframe tbody tr th {\n",
       "        vertical-align: top;\n",
       "    }\n",
       "\n",
       "    .dataframe thead th {\n",
       "        text-align: right;\n",
       "    }\n",
       "</style>\n",
       "<table border=\"1\" class=\"dataframe\">\n",
       "  <thead>\n",
       "    <tr style=\"text-align: right;\">\n",
       "      <th></th>\n",
       "      <th>label</th>\n",
       "      <th>body_text</th>\n",
       "      <th>body_len</th>\n",
       "    </tr>\n",
       "  </thead>\n",
       "  <tbody>\n",
       "    <tr>\n",
       "      <th>0</th>\n",
       "      <td>spam</td>\n",
       "      <td>Free entry in 2 a wkly comp to win FA Cup fina...</td>\n",
       "      <td>128</td>\n",
       "    </tr>\n",
       "    <tr>\n",
       "      <th>1</th>\n",
       "      <td>ham</td>\n",
       "      <td>Nah I don't think he goes to usf, he lives aro...</td>\n",
       "      <td>49</td>\n",
       "    </tr>\n",
       "    <tr>\n",
       "      <th>2</th>\n",
       "      <td>ham</td>\n",
       "      <td>Even my brother is not like to speak with me. ...</td>\n",
       "      <td>62</td>\n",
       "    </tr>\n",
       "    <tr>\n",
       "      <th>3</th>\n",
       "      <td>ham</td>\n",
       "      <td>I HAVE A DATE ON SUNDAY WITH WILL!!</td>\n",
       "      <td>28</td>\n",
       "    </tr>\n",
       "    <tr>\n",
       "      <th>4</th>\n",
       "      <td>ham</td>\n",
       "      <td>As per your request 'Melle Melle (Oru Minnamin...</td>\n",
       "      <td>135</td>\n",
       "    </tr>\n",
       "  </tbody>\n",
       "</table>\n",
       "</div>"
      ],
      "text/plain": [
       "  label                                          body_text  body_len\n",
       "0  spam  Free entry in 2 a wkly comp to win FA Cup fina...       128\n",
       "1   ham  Nah I don't think he goes to usf, he lives aro...        49\n",
       "2   ham  Even my brother is not like to speak with me. ...        62\n",
       "3   ham                I HAVE A DATE ON SUNDAY WITH WILL!!        28\n",
       "4   ham  As per your request 'Melle Melle (Oru Minnamin...       135"
      ]
     },
     "execution_count": 2,
     "metadata": {},
     "output_type": "execute_result"
    }
   ],
   "source": [
    "data['body_len']=data['body_text'].apply(lambda x :len(x)-x.count(\" \"))\n",
    "data.head()\n"
   ]
  },
  {
   "cell_type": "code",
   "execution_count": 3,
   "id": "7ad083c8",
   "metadata": {
    "execution": {
     "iopub.execute_input": "2021-12-24T17:02:37.849971Z",
     "iopub.status.busy": "2021-12-24T17:02:37.849269Z",
     "iopub.status.idle": "2021-12-24T17:02:37.909333Z",
     "shell.execute_reply": "2021-12-24T17:02:37.908814Z",
     "shell.execute_reply.started": "2021-12-24T16:40:46.685680Z"
    },
    "papermill": {
     "duration": 0.071229,
     "end_time": "2021-12-24T17:02:37.909483",
     "exception": false,
     "start_time": "2021-12-24T17:02:37.838254",
     "status": "completed"
    },
    "tags": []
   },
   "outputs": [
    {
     "data": {
      "text/html": [
       "<div>\n",
       "<style scoped>\n",
       "    .dataframe tbody tr th:only-of-type {\n",
       "        vertical-align: middle;\n",
       "    }\n",
       "\n",
       "    .dataframe tbody tr th {\n",
       "        vertical-align: top;\n",
       "    }\n",
       "\n",
       "    .dataframe thead th {\n",
       "        text-align: right;\n",
       "    }\n",
       "</style>\n",
       "<table border=\"1\" class=\"dataframe\">\n",
       "  <thead>\n",
       "    <tr style=\"text-align: right;\">\n",
       "      <th></th>\n",
       "      <th>label</th>\n",
       "      <th>body_text</th>\n",
       "      <th>body_len</th>\n",
       "      <th>percentage</th>\n",
       "    </tr>\n",
       "  </thead>\n",
       "  <tbody>\n",
       "    <tr>\n",
       "      <th>0</th>\n",
       "      <td>spam</td>\n",
       "      <td>Free entry in 2 a wkly comp to win FA Cup fina...</td>\n",
       "      <td>128</td>\n",
       "      <td>4.7</td>\n",
       "    </tr>\n",
       "    <tr>\n",
       "      <th>1</th>\n",
       "      <td>ham</td>\n",
       "      <td>Nah I don't think he goes to usf, he lives aro...</td>\n",
       "      <td>49</td>\n",
       "      <td>4.1</td>\n",
       "    </tr>\n",
       "    <tr>\n",
       "      <th>2</th>\n",
       "      <td>ham</td>\n",
       "      <td>Even my brother is not like to speak with me. ...</td>\n",
       "      <td>62</td>\n",
       "      <td>3.2</td>\n",
       "    </tr>\n",
       "    <tr>\n",
       "      <th>3</th>\n",
       "      <td>ham</td>\n",
       "      <td>I HAVE A DATE ON SUNDAY WITH WILL!!</td>\n",
       "      <td>28</td>\n",
       "      <td>7.1</td>\n",
       "    </tr>\n",
       "    <tr>\n",
       "      <th>4</th>\n",
       "      <td>ham</td>\n",
       "      <td>As per your request 'Melle Melle (Oru Minnamin...</td>\n",
       "      <td>135</td>\n",
       "      <td>4.4</td>\n",
       "    </tr>\n",
       "  </tbody>\n",
       "</table>\n",
       "</div>"
      ],
      "text/plain": [
       "  label                                          body_text  body_len  \\\n",
       "0  spam  Free entry in 2 a wkly comp to win FA Cup fina...       128   \n",
       "1   ham  Nah I don't think he goes to usf, he lives aro...        49   \n",
       "2   ham  Even my brother is not like to speak with me. ...        62   \n",
       "3   ham                I HAVE A DATE ON SUNDAY WITH WILL!!        28   \n",
       "4   ham  As per your request 'Melle Melle (Oru Minnamin...       135   \n",
       "\n",
       "   percentage  \n",
       "0         4.7  \n",
       "1         4.1  \n",
       "2         3.2  \n",
       "3         7.1  \n",
       "4         4.4  "
      ]
     },
     "execution_count": 3,
     "metadata": {},
     "output_type": "execute_result"
    }
   ],
   "source": [
    "#Idntifying the number of punctuation in a given text!\n",
    "import string\n",
    "def count_punct(text):\n",
    "    count=sum([1 for char in text if char in string.punctuation])\n",
    "    return round(count/(len(text)-text.count(\" \")),3)*100\n",
    "\n",
    "data['percentage']=data['body_text'].apply(lambda x : count_punct(x))\n",
    "data.head()\n",
    "    \n"
   ]
  },
  {
   "cell_type": "code",
   "execution_count": 4,
   "id": "b5396927",
   "metadata": {
    "execution": {
     "iopub.execute_input": "2021-12-24T17:02:37.932453Z",
     "iopub.status.busy": "2021-12-24T17:02:37.931415Z",
     "iopub.status.idle": "2021-12-24T17:02:37.933425Z",
     "shell.execute_reply": "2021-12-24T17:02:37.933875Z",
     "shell.execute_reply.started": "2021-12-24T16:40:49.558601Z"
    },
    "papermill": {
     "duration": 0.016024,
     "end_time": "2021-12-24T17:02:37.934050",
     "exception": false,
     "start_time": "2021-12-24T17:02:37.918026",
     "status": "completed"
    },
    "tags": []
   },
   "outputs": [],
   "source": [
    "from matplotlib import pyplot\n",
    "import numpy as np\n",
    "%matplotlib inline"
   ]
  },
  {
   "cell_type": "code",
   "execution_count": 5,
   "id": "80d2e3eb",
   "metadata": {
    "execution": {
     "iopub.execute_input": "2021-12-24T17:02:37.954445Z",
     "iopub.status.busy": "2021-12-24T17:02:37.953491Z",
     "iopub.status.idle": "2021-12-24T17:02:38.401938Z",
     "shell.execute_reply": "2021-12-24T17:02:38.400962Z",
     "shell.execute_reply.started": "2021-12-24T16:42:45.496185Z"
    },
    "papermill": {
     "duration": 0.459978,
     "end_time": "2021-12-24T17:02:38.402104",
     "exception": false,
     "start_time": "2021-12-24T17:02:37.942126",
     "status": "completed"
    },
    "tags": []
   },
   "outputs": [
    {
     "data": {
      "image/png": "[encoded data removed]",
      "text/plain": [
       "<Figure size 432x288 with 1 Axes>"
      ]
     },
     "metadata": {
      "needs_background": "light"
     },
     "output_type": "display_data"
    }
   ],
   "source": [
    "bins = np.linspace(0, 200, 40)\n",
    "\n",
    "pyplot.hist(data[data['label']=='spam']['body_len'], bins, alpha=0.5,density=True, label='spam')\n",
    "pyplot.hist(data[data['label']=='ham']['body_len'], bins, alpha=0.5, density=True, label='ham')\n",
    "pyplot.legend(loc='upper left')\n",
    "pyplot.show()"
   ]
  },
  {
   "cell_type": "code",
   "execution_count": 6,
   "id": "1c921b33",
   "metadata": {
    "execution": {
     "iopub.execute_input": "2021-12-24T17:02:38.434027Z",
     "iopub.status.busy": "2021-12-24T17:02:38.427287Z",
     "iopub.status.idle": "2021-12-24T17:02:38.759767Z",
     "shell.execute_reply": "2021-12-24T17:02:38.759072Z",
     "shell.execute_reply.started": "2021-12-24T16:42:58.499866Z"
    },
    "papermill": {
     "duration": 0.348951,
     "end_time": "2021-12-24T17:02:38.759951",
     "exception": false,
     "start_time": "2021-12-24T17:02:38.411000",
     "status": "completed"
    },
    "tags": []
   },
   "outputs": [
    {
     "data": {
      "image/png": "[encoded data removed]",
      "text/plain": [
       "<Figure size 432x288 with 1 Axes>"
      ]
     },
     "metadata": {
      "needs_background": "light"
     },
     "output_type": "display_data"
    }
   ],
   "source": [
    "bins = np.linspace(0, 50, 40)\n",
    "\n",
    "pyplot.hist(data[data['label']=='spam']['percentage'], bins, alpha=0.5, density=True, label='spam')\n",
    "pyplot.hist(data[data['label']=='ham']['percentage'], bins, alpha=0.5, density=True, label='ham')\n",
    "pyplot.legend(loc='upper right')\n",
    "pyplot.show()"
   ]
  },
  {
   "cell_type": "code",
   "execution_count": 7,
   "id": "765516ee",
   "metadata": {
    "execution": {
     "iopub.execute_input": "2021-12-24T17:02:38.781611Z",
     "iopub.status.busy": "2021-12-24T17:02:38.781046Z",
     "iopub.status.idle": "2021-12-24T17:02:39.024056Z",
     "shell.execute_reply": "2021-12-24T17:02:39.024479Z",
     "shell.execute_reply.started": "2021-12-24T16:48:58.133608Z"
    },
    "papermill": {
     "duration": 0.255175,
     "end_time": "2021-12-24T17:02:39.024651",
     "exception": false,
     "start_time": "2021-12-24T17:02:38.769476",
     "status": "completed"
    },
    "tags": []
   },
   "outputs": [
    {
     "data": {
      "image/png": "[encoded data removed]",
      "text/plain": [
       "<Figure size 432x288 with 1 Axes>"
      ]
     },
     "metadata": {
      "needs_background": "light"
     },
     "output_type": "display_data"
    }
   ],
   "source": [
    "bins=np.linspace(0,200,40)\n",
    "pyplot.hist(data['body_len'],bins)\n",
    "pyplot.title('Body_lenght_distribution')\n",
    "pyplot.show()"
   ]
  },
  {
   "cell_type": "code",
   "execution_count": 8,
   "id": "fe4f50e5",
   "metadata": {
    "execution": {
     "iopub.execute_input": "2021-12-24T17:02:39.069612Z",
     "iopub.status.busy": "2021-12-24T17:02:39.068979Z",
     "iopub.status.idle": "2021-12-24T17:02:39.298461Z",
     "shell.execute_reply": "2021-12-24T17:02:39.297936Z",
     "shell.execute_reply.started": "2021-12-24T16:50:01.772496Z"
    },
    "papermill": {
     "duration": 0.264113,
     "end_time": "2021-12-24T17:02:39.298597",
     "exception": false,
     "start_time": "2021-12-24T17:02:39.034484",
     "status": "completed"
    },
    "tags": []
   },
   "outputs": [
    {
     "data": {
      "image/png": "[encoded data removed]",
      "text/plain": [
       "<Figure size 432x288 with 1 Axes>"
      ]
     },
     "metadata": {
      "needs_background": "light"
     },
     "output_type": "display_data"
    }
   ],
   "source": [
    "bins=np.linspace(0,50,40)\n",
    "pyplot.hist(data['percentage'],bins)\n",
    "pyplot.title('Body_percentage_distribution')\n",
    "pyplot.show()"
   ]
  },
  {
   "cell_type": "code",
   "execution_count": 9,
   "id": "e1ae02c8",
   "metadata": {
    "execution": {
     "iopub.execute_input": "2021-12-24T17:02:39.343400Z",
     "iopub.status.busy": "2021-12-24T17:02:39.342663Z",
     "iopub.status.idle": "2021-12-24T17:02:40.556571Z",
     "shell.execute_reply": "2021-12-24T17:02:40.557104Z",
     "shell.execute_reply.started": "2021-12-24T16:59:17.685483Z"
    },
    "papermill": {
     "duration": 1.248214,
     "end_time": "2021-12-24T17:02:40.557285",
     "exception": false,
     "start_time": "2021-12-24T17:02:39.309071",
     "status": "completed"
    },
    "tags": []
   },
   "outputs": [
    {
     "data": {
      "image/png": "[encoded data removed]",
      "text/plain": [
       "<Figure size 432x288 with 1 Axes>"
      ]
     },
     "metadata": {
      "needs_background": "light"
     },
     "output_type": "display_data"
    },
    {
     "data": {
      "image/png": "[encoded data removed]",
      "text/plain": [
       "<Figure size 432x288 with 1 Axes>"
      ]
     },
     "metadata": {
      "needs_background": "light"
     },
     "output_type": "display_data"
    },
    {
     "data": {
      "image/png": "[encoded data removed]",
      "text/plain": [
       "<Figure size 432x288 with 1 Axes>"
      ]
     },
     "metadata": {
      "needs_background": "light"
     },
     "output_type": "display_data"
    },
    {
     "data": {
      "image/png": "[encoded data removed]",
      "text/plain": [
       "<Figure size 432x288 with 1 Axes>"
      ]
     },
     "metadata": {
      "needs_background": "light"
     },
     "output_type": "display_data"
    },
    {
     "data": {
      "image/png": "[encoded data removed]",
      "text/plain": [
       "<Figure size 432x288 with 1 Axes>"
      ]
     },
     "metadata": {
      "needs_background": "light"
     },
     "output_type": "display_data"
    }
   ],
   "source": [
    "for i in [1,2,3,4,5]:\n",
    "    pyplot.hist((data['percentage']) **(1/i),bins=40)\n",
    "    pyplot.title(\"Transformation 1/{}\".format(str(i)))\n",
    "    pyplot.show()"
   ]
  },
  {
   "cell_type": "code",
   "execution_count": null,
   "id": "ee13e84f",
   "metadata": {
    "papermill": {
     "duration": 0.01298,
     "end_time": "2021-12-24T17:02:40.584405",
     "exception": false,
     "start_time": "2021-12-24T17:02:40.571425",
     "status": "completed"
    },
    "tags": []
   },
   "outputs": [],
   "source": []
  }
 ],
 "metadata": {
  "kernelspec": {
   "display_name": "Python 3",
   "language": "python",
   "name": "python3"
  },
  "language_info": {
   "codemirror_mode": {
    "name": "ipython",
    "version": 3
   },
   "file_extension": ".py",
   "mimetype": "text/x-python",
   "name": "python",
   "nbconvert_exporter": "python",
   "pygments_lexer": "ipython3",
   "version": "3.7.12"
  },
  "papermill": {
   "default_parameters": {},
   "duration": 12.937377,
   "end_time": "2021-12-24T17:02:41.310208",
   "environment_variables": {},
   "exception": null,
   "input_path": "__notebook__.ipynb",
   "output_path": "__notebook__.ipynb",
   "parameters": {},
   "start_time": "2021-12-24T17:02:28.372831",
   "version": "2.3.3"
  }
 },
 "nbformat": 4,
 "nbformat_minor": 5
}
